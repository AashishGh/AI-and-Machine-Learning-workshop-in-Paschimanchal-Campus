{
 "cells": [
  {
   "cell_type": "markdown",
   "metadata": {
    "colab_type": "text",
    "id": "lD6tWdWK2nVR"
   },
   "source": [
    "# Print\n",
    "Printing can be done by using **print** followed by the entity to print."
   ]
  },
  {
   "cell_type": "code",
   "execution_count": 1,
   "metadata": {
    "colab": {
     "autoexec": {
      "startup": false,
      "wait_interval": 0
     },
     "base_uri": "https://localhost:8080/",
     "height": 119
    },
    "colab_type": "code",
    "executionInfo": {
     "elapsed": 7832,
     "status": "ok",
     "timestamp": 1525235538285,
     "user": {
      "displayName": "Nama Budda",
      "photoUrl": "//lh3.googleusercontent.com/-bs8EIri6whU/AAAAAAAAAAI/AAAAAAAAFOA/2worzW5Poi0/s50-c-k-no/photo.jpg",
      "userId": "103954825905713429993"
     },
     "user_tz": -345
    },
    "id": "TKlR-wy52nVX",
    "outputId": "921e3177-1a55-4b7e-f645-5d8af7b1dede"
   },
   "outputs": [
    {
     "name": "stdout",
     "output_type": "stream",
     "text": [
      "5\n",
      "Dilip Gautam\n",
      "True\n"
     ]
    }
   ],
   "source": [
    "print(5)\n",
    "print('Dilip Gautam')\n",
    "print(True)"
   ]
  },
  {
   "cell_type": "markdown",
   "metadata": {
    "colab_type": "text",
    "id": "apfayBtMHtXO"
   },
   "source": [
    "<br>\n",
    "If you want to print multiple items in same line, you can use a comma **,**"
   ]
  },
  {
   "cell_type": "code",
   "execution_count": 2,
   "metadata": {
    "colab": {
     "autoexec": {
      "startup": false,
      "wait_interval": 0
     }
    },
    "colab_type": "code",
    "id": "5l6y_GA-HtXS",
    "outputId": "75efdcad-a8f5-4c8b-d690-2ca0e1e28c61"
   },
   "outputs": [
    {
     "name": "stdout",
     "output_type": "stream",
     "text": [
      "5 7 15 Shilaj\n"
     ]
    }
   ],
   "source": [
    "print(5, 7, 15, \"Shilaj\")"
   ]
  },
  {
   "cell_type": "markdown",
   "metadata": {
    "colab_type": "text",
    "id": "PS9GKsLq2nV2"
   },
   "source": [
    "# Variable Naming\n",
    "Variables are entities or location used to store values of any kind.  Are \n",
    "* Can begin with alphabets a-z or A-Z or _\n",
    "* Can contain numbers but not as the first letter\n",
    "* Are case-sensitive  \n",
    "\n",
    "*There are some **keywords** reserved in python which should not be used such as **print**, **type**, **in**, **sum**, **len**. If they are used as variable names, the program might not function properly.*"
   ]
  },
  {
   "cell_type": "code",
   "execution_count": 3,
   "metadata": {
    "colab": {
     "autoexec": {
      "startup": false,
      "wait_interval": 0
     }
    },
    "colab_type": "code",
    "id": "hCbnOL172nV3"
   },
   "outputs": [],
   "source": [
    "a = 1\n",
    "A = 13\n",
    "_a1 = 5\n",
    "x_y = 10\n",
    "b = 'apples'"
   ]
  },
  {
   "cell_type": "code",
   "execution_count": 4,
   "metadata": {
    "colab": {
     "autoexec": {
      "startup": false,
      "wait_interval": 0
     }
    },
    "colab_type": "code",
    "id": "VoiS9mWXHtXk",
    "outputId": "91af0eda-e0af-446b-90c4-f8fa5dfaac15"
   },
   "outputs": [
    {
     "name": "stdout",
     "output_type": "stream",
     "text": [
      "1\n",
      "13\n"
     ]
    }
   ],
   "source": [
    "print(a)\n",
    "print(A)"
   ]
  },
  {
   "cell_type": "markdown",
   "metadata": {
    "colab_type": "text",
    "id": "odwWu6a8HtXs"
   },
   "source": [
    "# Variable Types\n",
    "In python, there are many variable types. They include:\n",
    "* int \n",
    "    * *7*\n",
    "* str \n",
    "    * *\"Hello\"*\n",
    "    * *'World'*\n",
    "* float \n",
    "    * *3.123*\n",
    "* boolean \n",
    "    * False*\n",
    "* list \n",
    "    * *[2, 5, 10, 15]*\n",
    "* tuple\n",
    "    * *(10, 2, 8)*\n",
    "* dictionary \n",
    "    * *{ \"fruit\" : \"apple\",   \n",
    "    \"qty\" : 1}*\n",
    "\n",
    "The type is auto assigned when assigning values to the variable. To know the type of variable use **type** function."
   ]
  },
  {
   "cell_type": "code",
   "execution_count": 5,
   "metadata": {
    "colab": {
     "autoexec": {
      "startup": false,
      "wait_interval": 0
     }
    },
    "colab_type": "code",
    "id": "sqTbuFDxHtXu",
    "outputId": "4c1e0af0-3121-4f78-8683-f4a3ee4d6aaf"
   },
   "outputs": [
    {
     "data": {
      "text/plain": [
       "int"
      ]
     },
     "execution_count": 5,
     "metadata": {},
     "output_type": "execute_result"
    }
   ],
   "source": [
    "a = 5\n",
    "type(a)"
   ]
  },
  {
   "cell_type": "code",
   "execution_count": 6,
   "metadata": {
    "colab": {
     "autoexec": {
      "startup": false,
      "wait_interval": 0
     }
    },
    "colab_type": "code",
    "id": "0juK1bG_HtX4",
    "outputId": "5a5c1e60-feda-4344-c3b4-3c24fd3c0f4b"
   },
   "outputs": [
    {
     "data": {
      "text/plain": [
       "float"
      ]
     },
     "execution_count": 6,
     "metadata": {},
     "output_type": "execute_result"
    }
   ],
   "source": [
    "b = 1.5\n",
    "type(b)"
   ]
  },
  {
   "cell_type": "code",
   "execution_count": 7,
   "metadata": {
    "colab": {
     "autoexec": {
      "startup": false,
      "wait_interval": 0
     }
    },
    "colab_type": "code",
    "id": "t5hPGXiSHtYC",
    "outputId": "b2af7cf0-ba6e-4030-9ac7-f4c6fc87e9ad"
   },
   "outputs": [
    {
     "data": {
      "text/plain": [
       "str"
      ]
     },
     "execution_count": 7,
     "metadata": {},
     "output_type": "execute_result"
    }
   ],
   "source": [
    "type(\"Niranjan Adhikari\")"
   ]
  },
  {
   "cell_type": "code",
   "execution_count": 11,
   "metadata": {
    "colab": {
     "autoexec": {
      "startup": false,
      "wait_interval": 0
     }
    },
    "colab_type": "code",
    "id": "NdBua_aMHtYu",
    "outputId": "0cad2f31-4b00-4531-8af9-f1f300240190"
   },
   "outputs": [
    {
     "data": {
      "text/plain": [
       "dict"
      ]
     },
     "execution_count": 11,
     "metadata": {},
     "output_type": "execute_result"
    }
   ],
   "source": [
    "type({\"hello\": 1,\n",
    "       \"hi\": \"a\"})"
   ]
  },
  {
   "cell_type": "markdown",
   "metadata": {
    "colab_type": "text",
    "id": "P_oza_1sHtY4"
   },
   "source": [
    "# String Operations\n",
    "* Strings can be added with strings\n",
    "* Strings can be multiplied by integers\n",
    "* Strings can be formatted using curly brackets **{}** and its function **format**"
   ]
  },
  {
   "cell_type": "code",
   "execution_count": 12,
   "metadata": {
    "colab": {
     "autoexec": {
      "startup": false,
      "wait_interval": 0
     }
    },
    "colab_type": "code",
    "id": "VfFcPsY0HtY6",
    "outputId": "82393119-b56d-4244-ec23-3f9c9cbf6c0e"
   },
   "outputs": [
    {
     "data": {
      "text/plain": [
       "'AmarNepali'"
      ]
     },
     "execution_count": 12,
     "metadata": {},
     "output_type": "execute_result"
    }
   ],
   "source": [
    "\"Amar\" + \"Nepali\""
   ]
  },
  {
   "cell_type": "code",
   "execution_count": 13,
   "metadata": {
    "colab": {
     "autoexec": {
      "startup": false,
      "wait_interval": 0
     }
    },
    "colab_type": "code",
    "id": "hrR4v9VZHtZU",
    "outputId": "768636a7-f4b3-4e40-bebd-9ccaec3eae7b"
   },
   "outputs": [
    {
     "data": {
      "text/plain": [
       "'AI workshop AI workshop AI workshop '"
      ]
     },
     "execution_count": 13,
     "metadata": {},
     "output_type": "execute_result"
    }
   ],
   "source": [
    "\"AI workshop \"*3"
   ]
  },
  {
   "cell_type": "markdown",
   "metadata": {
    "colab_type": "text",
    "id": "CT4pRnFk2nXJ"
   },
   "source": [
    "# Lists\n",
    "Lists can contain multiple values, which makes it easier to write programs that handle large amounts of data. The values in the list do not need to be of same data type.  \n",
    "To create a list we use square brackets **[ ]** with comma **,** to separate the elements."
   ]
  },
  {
   "cell_type": "code",
   "execution_count": 14,
   "metadata": {
    "colab": {
     "autoexec": {
      "startup": false,
      "wait_interval": 0
     }
    },
    "colab_type": "code",
    "id": "e7_rxO_g2nXK",
    "outputId": "21da8bf8-8244-442a-adbd-78464362389f"
   },
   "outputs": [
    {
     "data": {
      "text/plain": [
       "['hello', 3.1415, True, None, 42]"
      ]
     },
     "execution_count": 14,
     "metadata": {},
     "output_type": "execute_result"
    }
   ],
   "source": [
    "my_list = ['hello', 3.1415, True, None, 42]\n",
    "my_list"
   ]
  },
  {
   "cell_type": "markdown",
   "metadata": {
    "colab_type": "text",
    "id": "0U4p00a4HtaY"
   },
   "source": [
    "## Length of lists\n",
    "The **length** of the list can be found using the **len** keyword."
   ]
  },
  {
   "cell_type": "code",
   "execution_count": 16,
   "metadata": {
    "colab": {
     "autoexec": {
      "startup": false,
      "wait_interval": 0
     }
    },
    "colab_type": "code",
    "id": "H6y8B59KHtae",
    "outputId": "fb6f8dd2-abb0-455d-fc17-9b9775ace953"
   },
   "outputs": [
    {
     "data": {
      "text/plain": [
       "5"
      ]
     },
     "execution_count": 16,
     "metadata": {},
     "output_type": "execute_result"
    }
   ],
   "source": [
    "len(my_list)"
   ]
  },
  {
   "cell_type": "markdown",
   "metadata": {
    "colab_type": "text",
    "id": "NA2LZI_uHtak"
   },
   "source": [
    "## Indexing\n",
    "Elements of lists can be selected using their index i.e. position from the beginning in the list. Unlike functions, indexing requires square brackets **[ ]**.  \n",
    "*In python, the first index starts with 0.*"
   ]
  },
  {
   "cell_type": "code",
   "execution_count": 17,
   "metadata": {
    "colab": {
     "autoexec": {
      "startup": false,
      "wait_interval": 0
     }
    },
    "colab_type": "code",
    "id": "QIngQ3pRHtam",
    "outputId": "f16a4b73-8d3e-4d43-a4ff-b713ebc40740"
   },
   "outputs": [
    {
     "data": {
      "text/plain": [
       "['hello', 3.1415, True, None, 42]"
      ]
     },
     "execution_count": 17,
     "metadata": {},
     "output_type": "execute_result"
    }
   ],
   "source": [
    "my_list"
   ]
  },
  {
   "cell_type": "code",
   "execution_count": 18,
   "metadata": {
    "colab": {
     "autoexec": {
      "startup": false,
      "wait_interval": 0
     }
    },
    "colab_type": "code",
    "id": "8TeYH0zOHtas",
    "outputId": "d0bb084e-ee27-48d5-ec4f-2904ab4b863d"
   },
   "outputs": [
    {
     "data": {
      "text/plain": [
       "'hello'"
      ]
     },
     "execution_count": 18,
     "metadata": {},
     "output_type": "execute_result"
    }
   ],
   "source": [
    "my_list[0]"
   ]
  },
  {
   "cell_type": "code",
   "execution_count": 19,
   "metadata": {
    "colab": {
     "autoexec": {
      "startup": false,
      "wait_interval": 0
     }
    },
    "colab_type": "code",
    "id": "7coBEWsV2nXM",
    "outputId": "76a881c5-1187-47dd-b310-7f8dd8582696"
   },
   "outputs": [
    {
     "data": {
      "text/plain": [
       "3.1415"
      ]
     },
     "execution_count": 19,
     "metadata": {},
     "output_type": "execute_result"
    }
   ],
   "source": [
    "my_list[1]"
   ]
  },
  {
   "cell_type": "markdown",
   "metadata": {
    "colab_type": "text",
    "id": "O-NUZp-wHta6"
   },
   "source": [
    "<br>\n",
    "Similarly, indexing can be done from the last as well. In this case, the last index is -1, the second last index -2 and so on."
   ]
  },
  {
   "cell_type": "code",
   "execution_count": 20,
   "metadata": {
    "colab": {
     "autoexec": {
      "startup": false,
      "wait_interval": 0
     }
    },
    "colab_type": "code",
    "id": "cHA7b7Q_2nXN",
    "outputId": "7203967d-a799-4ab4-d477-48de6b8bf069"
   },
   "outputs": [
    {
     "data": {
      "text/plain": [
       "42"
      ]
     },
     "execution_count": 20,
     "metadata": {},
     "output_type": "execute_result"
    }
   ],
   "source": [
    "my_list[-1]"
   ]
  },
  {
   "cell_type": "markdown",
   "metadata": {
    "colab_type": "text",
    "id": "c5MgZttoHtbc"
   },
   "source": [
    "## Append\n",
    "An item can be appended at the end of a list using the **append** method."
   ]
  },
  {
   "cell_type": "code",
   "execution_count": 22,
   "metadata": {
    "colab": {
     "autoexec": {
      "startup": false,
      "wait_interval": 0
     }
    },
    "colab_type": "code",
    "id": "xgKHICya2nXn",
    "outputId": "2235cd15-accc-45b0-ec9e-c40d4c6caa4f"
   },
   "outputs": [
    {
     "data": {
      "text/plain": [
       "['hello', 3.1415, True, None, 42, 'naya', 'naya']"
      ]
     },
     "execution_count": 22,
     "metadata": {},
     "output_type": "execute_result"
    }
   ],
   "source": [
    "my_list.append('naya')\n",
    "my_list"
   ]
  },
  {
   "cell_type": "markdown",
   "metadata": {
    "colab_type": "text",
    "id": "DKutFRtf2nX2"
   },
   "source": [
    "# Dictionary\n",
    "Dictionaries are variables with **key** and **value** pairs.  \n",
    "The values can be any variables. But the keys must be immutable."
   ]
  },
  {
   "cell_type": "code",
   "execution_count": 26,
   "metadata": {
    "colab": {
     "autoexec": {
      "startup": false,
      "wait_interval": 0
     },
     "base_uri": "https://localhost:8080/",
     "height": 34
    },
    "colab_type": "code",
    "executionInfo": {
     "elapsed": 23193,
     "status": "ok",
     "timestamp": 1525275724155,
     "user": {
      "displayName": "Summit Shrestha",
      "photoUrl": "//lh5.googleusercontent.com/-YYw8RFy1RK4/AAAAAAAAAAI/AAAAAAAAABQ/51JmToxRtUM/s50-c-k-no/photo.jpg",
      "userId": "110573915273242734570"
     },
     "user_tz": -345
    },
    "id": "hwPnB8GG2nX3",
    "outputId": "a7916ba0-14a8-4a79-f15b-c640db24eabd"
   },
   "outputs": [
    {
     "data": {
      "text/plain": [
       "dict"
      ]
     },
     "execution_count": 26,
     "metadata": {},
     "output_type": "execute_result"
    }
   ],
   "source": [
    "cat = {'body': 'fat', \n",
    "       'color': 'white',\n",
    "       \"meals\": [3, 1, 2]}\n",
    "type(cat)"
   ]
  },
  {
   "cell_type": "markdown",
   "metadata": {
    "colab_type": "text",
    "id": "LnXturFgHtcQ"
   },
   "source": [
    "## Indexing in Dictionary\n",
    "We use the key instead of index for accessing dictionary elements."
   ]
  },
  {
   "cell_type": "code",
   "execution_count": 27,
   "metadata": {
    "colab": {
     "autoexec": {
      "startup": false,
      "wait_interval": 0
     }
    },
    "colab_type": "code",
    "id": "2pLVt-ha2nX4",
    "outputId": "ae92db46-d4ea-4e60-fc3c-109f3f922fd5"
   },
   "outputs": [
    {
     "data": {
      "text/plain": [
       "'Cat has white fur.'"
      ]
     },
     "execution_count": 27,
     "metadata": {},
     "output_type": "execute_result"
    }
   ],
   "source": [
    "'Cat has ' + cat['color'] + ' fur.'"
   ]
  },
  {
   "cell_type": "markdown",
   "metadata": {
    "colab_type": "text",
    "id": "4h7PcLNXHtcS"
   },
   "source": [
    "### Keys and values"
   ]
  },
  {
   "cell_type": "code",
   "execution_count": 28,
   "metadata": {
    "colab": {
     "autoexec": {
      "startup": false,
      "wait_interval": 0
     },
     "base_uri": "https://localhost:8080/",
     "height": 68
    },
    "colab_type": "code",
    "executionInfo": {
     "elapsed": 925,
     "status": "ok",
     "timestamp": 1525275749661,
     "user": {
      "displayName": "Summit Shrestha",
      "photoUrl": "//lh5.googleusercontent.com/-YYw8RFy1RK4/AAAAAAAAAAI/AAAAAAAAABQ/51JmToxRtUM/s50-c-k-no/photo.jpg",
      "userId": "110573915273242734570"
     },
     "user_tz": -345
    },
    "id": "UdZwNlOW2nX8",
    "outputId": "1c8834ca-f44c-4c19-e7e8-821018a60e08"
   },
   "outputs": [
    {
     "name": "stdout",
     "output_type": "stream",
     "text": [
      "dict_keys(['body', 'color', 'meals'])\n",
      "dict_values(['fat', 'white', [3, 1, 2]])\n"
     ]
    }
   ],
   "source": [
    "print(cat.keys())\n",
    "print(cat.values())"
   ]
  },
  {
   "cell_type": "markdown",
   "metadata": {
    "colab_type": "text",
    "id": "x9oZFZ9WHtcW"
   },
   "source": [
    "### Updating dictionary\n",
    "Dictionary can be updated either using the **update** keyword. We can also assign new elements in the same way we do in lists but we need to use **keys** instead of indices."
   ]
  },
  {
   "cell_type": "code",
   "execution_count": 29,
   "metadata": {
    "colab": {
     "autoexec": {
      "startup": false,
      "wait_interval": 0
     }
    },
    "colab_type": "code",
    "id": "2f8gH73A2nYD",
    "outputId": "c847cabd-72ff-4ab9-bba9-f06e5a4c1073"
   },
   "outputs": [
    {
     "data": {
      "text/plain": [
       "{'body': 'fat', 'color': 'white', 'eyes': 'blue', 'meals': [3, 1, 2]}"
      ]
     },
     "execution_count": 29,
     "metadata": {},
     "output_type": "execute_result"
    }
   ],
   "source": [
    "cat.update({'eyes': 'blue'})\n",
    "cat"
   ]
  },
  {
   "cell_type": "code",
   "execution_count": 30,
   "metadata": {
    "colab": {
     "autoexec": {
      "startup": false,
      "wait_interval": 0
     }
    },
    "colab_type": "code",
    "id": "oXCL8NydHtcc",
    "outputId": "db1914cd-e21e-466a-f6f4-67377f008b51"
   },
   "outputs": [
    {
     "data": {
      "text/plain": [
       "{'body': 'fat',\n",
       " 'color': 'white',\n",
       " 'eyes': 'blue',\n",
       " 'meals': [3, 1, 2],\n",
       " 'weight': 4}"
      ]
     },
     "execution_count": 30,
     "metadata": {},
     "output_type": "execute_result"
    }
   ],
   "source": [
    "cat['weight'] = 4\n",
    "cat"
   ]
  },
  {
   "cell_type": "markdown",
   "metadata": {
    "colab_type": "text",
    "id": "H_dkA_fvHtdA"
   },
   "source": [
    "# Comparators\n",
    "* Equal to\n",
    "    * ==\n",
    "* Not equal to\n",
    "    * !=\n",
    "* Less than\n",
    "    * <\n",
    "* Greater than\n",
    "    * >\n",
    "* Less than or equal to\n",
    "    * <=\n",
    "* Greater than or equal to\n",
    "    * \\>=\n",
    "They return boolean values."
   ]
  },
  {
   "cell_type": "code",
   "execution_count": 31,
   "metadata": {
    "colab": {
     "autoexec": {
      "startup": false,
      "wait_interval": 0
     },
     "base_uri": "https://localhost:8080/",
     "height": 68
    },
    "colab_type": "code",
    "executionInfo": {
     "elapsed": 898,
     "status": "ok",
     "timestamp": 1525227380322,
     "user": {
      "displayName": "Kiran Poudel",
      "photoUrl": "https://lh3.googleusercontent.com/a/default-user=s128",
      "userId": "100399137249051217878"
     },
     "user_tz": -345
    },
    "id": "zSsJ3L7k2nWT",
    "outputId": "0f8641b1-29a4-4196-a36d-5c4ef404ce08"
   },
   "outputs": [
    {
     "data": {
      "text/plain": [
       "True"
      ]
     },
     "execution_count": 31,
     "metadata": {},
     "output_type": "execute_result"
    }
   ],
   "source": [
    "2 != 3"
   ]
  },
  {
   "cell_type": "code",
   "execution_count": 32,
   "metadata": {
    "colab": {
     "autoexec": {
      "startup": false,
      "wait_interval": 0
     }
    },
    "colab_type": "code",
    "id": "cshnEo7nHtdU",
    "outputId": "ddd8632c-a452-43b8-8aed-af4320282d95"
   },
   "outputs": [
    {
     "data": {
      "text/plain": [
       "False"
      ]
     },
     "execution_count": 32,
     "metadata": {},
     "output_type": "execute_result"
    }
   ],
   "source": [
    "2 == 3"
   ]
  },
  {
   "cell_type": "code",
   "execution_count": 33,
   "metadata": {
    "colab": {
     "autoexec": {
      "startup": false,
      "wait_interval": 0
     }
    },
    "colab_type": "code",
    "id": "HJnEXGP3Htdg",
    "outputId": "f67fc68e-2de3-4309-81ca-4c64e7747e03"
   },
   "outputs": [
    {
     "data": {
      "text/plain": [
       "True"
      ]
     },
     "execution_count": 33,
     "metadata": {},
     "output_type": "execute_result"
    }
   ],
   "source": [
    "7 >= 5"
   ]
  },
  {
   "cell_type": "code",
   "execution_count": 34,
   "metadata": {
    "colab": {
     "autoexec": {
      "startup": false,
      "wait_interval": 0
     }
    },
    "colab_type": "code",
    "id": "GxUp5yrfHtdo",
    "outputId": "bd072573-10ed-45aa-d794-a9b68ed68611"
   },
   "outputs": [
    {
     "data": {
      "text/plain": [
       "True"
      ]
     },
     "execution_count": 34,
     "metadata": {},
     "output_type": "execute_result"
    }
   ],
   "source": [
    "7 >= 7"
   ]
  },
  {
   "cell_type": "markdown",
   "metadata": {
    "colab_type": "text",
    "id": "suvygt9lHtes"
   },
   "source": [
    "# Functions\n",
    "Properties of Functions in python:\n",
    "* Named entities\n",
    "* Perform specific tasks\n",
    "* Operate on 0, 1 or more values/variables\n",
    "* Can be called using their name followed by small brackets **()**\n",
    "* Follow the same naming convention as variables\n",
    "* Are defined using the keyword **def**\n",
    "* May or may not return 1 or more values\n",
    "* Use keyword **return** to return values\n",
    "* Do not use curly brackets or semicolon like in other languages\n",
    "* Use indentation to separate blocks\n",
    "\n",
    "*P.S. Do not forget the colon **:** in the end of the line in which def keyword is used.*"
   ]
  },
  {
   "cell_type": "markdown",
   "metadata": {
    "colab_type": "text",
    "id": "ba9vZxTdHtes"
   },
   "source": [
    "Function with no parameters"
   ]
  },
  {
   "cell_type": "code",
   "execution_count": 1,
   "metadata": {
    "colab": {
     "autoexec": {
      "startup": false,
      "wait_interval": 0
     }
    },
    "colab_type": "code",
    "id": "CV4z4ff_Hteu"
   },
   "outputs": [],
   "source": [
    "def abc():\n",
    "    print(\"This is AI workshop\")"
   ]
  },
  {
   "cell_type": "code",
   "execution_count": 2,
   "metadata": {
    "colab": {
     "autoexec": {
      "startup": false,
      "wait_interval": 0
     }
    },
    "colab_type": "code",
    "id": "vBAOWWPCHtey",
    "outputId": "a707368c-fce0-4c56-aacf-7b3eae29ad3e"
   },
   "outputs": [
    {
     "name": "stdout",
     "output_type": "stream",
     "text": [
      "This is AI workshop\n"
     ]
    }
   ],
   "source": [
    "abc()"
   ]
  },
  {
   "cell_type": "markdown",
   "metadata": {
    "colab_type": "text",
    "id": "QG8AVRRnHte8"
   },
   "source": [
    "Function with 2 parameters"
   ]
  },
  {
   "cell_type": "code",
   "execution_count": 3,
   "metadata": {
    "colab": {
     "autoexec": {
      "startup": false,
      "wait_interval": 0
     }
    },
    "colab_type": "code",
    "id": "qsaWKuisHte-"
   },
   "outputs": [],
   "source": [
    "def f(a, b):\n",
    "    x = a + b\n",
    "    print(x)"
   ]
  },
  {
   "cell_type": "code",
   "execution_count": 4,
   "metadata": {
    "colab": {
     "autoexec": {
      "startup": false,
      "wait_interval": 0
     }
    },
    "colab_type": "code",
    "id": "WcRjphDQHte-",
    "outputId": "3f8c91fe-99ce-4baa-885a-ea04bc232f01"
   },
   "outputs": [
    {
     "name": "stdout",
     "output_type": "stream",
     "text": [
      "15\n"
     ]
    }
   ],
   "source": [
    "f(10, 5)"
   ]
  },
  {
   "cell_type": "code",
   "execution_count": 5,
   "metadata": {
    "colab": {
     "autoexec": {
      "startup": false,
      "wait_interval": 0
     }
    },
    "colab_type": "code",
    "id": "nxGH4X802nXI",
    "outputId": "72759464-f0aa-4056-ee71-ae0bd88797a5"
   },
   "outputs": [
    {
     "name": "stdout",
     "output_type": "stream",
     "text": [
      "3\n"
     ]
    }
   ],
   "source": [
    "def add_numbers(a, b):\n",
    "    return a + b\n",
    "s = add_numbers(1, 2)\n",
    "print(s)"
   ]
  },
  {
   "cell_type": "markdown",
   "metadata": {
    "colab_type": "text",
    "id": "ne5g1xX8HtfG"
   },
   "source": [
    "The variables used inside the functions are specific to that function and cannot be accessed outside without special cases."
   ]
  },
  {
   "cell_type": "code",
   "execution_count": 6,
   "metadata": {
    "colab": {
     "autoexec": {
      "startup": false,
      "wait_interval": 0
     }
    },
    "colab_type": "code",
    "id": "gFFaz9XQHtfG",
    "outputId": "f23ffff0-cc48-4c6b-fb2d-5cc8d55106d3"
   },
   "outputs": [
    {
     "ename": "NameError",
     "evalue": "name 'x' is not defined",
     "output_type": "error",
     "traceback": [
      "\u001b[1;31m---------------------------------------------------------------------------\u001b[0m",
      "\u001b[1;31mNameError\u001b[0m                                 Traceback (most recent call last)",
      "\u001b[1;32m<ipython-input-6-6fcf9dfbd479>\u001b[0m in \u001b[0;36m<module>\u001b[1;34m()\u001b[0m\n\u001b[1;32m----> 1\u001b[1;33m \u001b[0mx\u001b[0m\u001b[1;33m\u001b[0m\u001b[0m\n\u001b[0m",
      "\u001b[1;31mNameError\u001b[0m: name 'x' is not defined"
     ]
    }
   ],
   "source": [
    "x"
   ]
  },
  {
   "cell_type": "markdown",
   "metadata": {
    "colab_type": "text",
    "id": "ToVPyDZ12nWk"
   },
   "source": [
    "# Flow Control\n",
    "*Do not forget colon **:** a the end of the conditional lines.*"
   ]
  },
  {
   "cell_type": "markdown",
   "metadata": {
    "colab_type": "text",
    "id": "RWfjEpu72nWl"
   },
   "source": [
    "## Conditions\n",
    "* if\n",
    "* if ... else\n",
    "* if ... elif\n",
    "* if ... elif ... else"
   ]
  },
  {
   "cell_type": "code",
   "execution_count": 7,
   "metadata": {
    "colab": {
     "autoexec": {
      "startup": false,
      "wait_interval": 0
     }
    },
    "colab_type": "code",
    "id": "fkAnBNj62nWn"
   },
   "outputs": [],
   "source": [
    "def rel(a, c):\n",
    "    if a == c:\n",
    "        print(\"Equal\")\n",
    "    elif a > c:\n",
    "        print(\"Greater\")\n",
    "    else:\n",
    "        print(\"Less\")"
   ]
  },
  {
   "cell_type": "code",
   "execution_count": 8,
   "metadata": {
    "colab": {
     "autoexec": {
      "startup": false,
      "wait_interval": 0
     }
    },
    "colab_type": "code",
    "id": "M8nRxTFuHtdw",
    "outputId": "5dfdb0f6-2842-45d7-fccc-ebd4356eb52c"
   },
   "outputs": [
    {
     "name": "stdout",
     "output_type": "stream",
     "text": [
      "Less\n"
     ]
    }
   ],
   "source": [
    "rel(1, 2)"
   ]
  },
  {
   "cell_type": "code",
   "execution_count": 9,
   "metadata": {
    "colab": {
     "autoexec": {
      "startup": false,
      "wait_interval": 0
     }
    },
    "colab_type": "code",
    "id": "bM15ud73Htd0",
    "outputId": "6342b71e-6911-4f22-ec93-25ae6da1936d"
   },
   "outputs": [
    {
     "name": "stdout",
     "output_type": "stream",
     "text": [
      "Equal\n"
     ]
    }
   ],
   "source": [
    "rel(1, 1)"
   ]
  },
  {
   "cell_type": "code",
   "execution_count": 10,
   "metadata": {
    "colab": {
     "autoexec": {
      "startup": false,
      "wait_interval": 0
     }
    },
    "colab_type": "code",
    "id": "5CkgjO6pHtd4",
    "outputId": "5eee5bf5-8f44-45b3-e483-ec5f419c88ea"
   },
   "outputs": [
    {
     "name": "stdout",
     "output_type": "stream",
     "text": [
      "Greater\n"
     ]
    }
   ],
   "source": [
    "rel(2, 1)"
   ]
  },
  {
   "cell_type": "markdown",
   "metadata": {
    "colab_type": "text",
    "id": "iTZDBibA2nW5"
   },
   "source": [
    "## for loop\n",
    "Iterate over the specified iterator types of items such as lists and dictionaries."
   ]
  },
  {
   "cell_type": "code",
   "execution_count": 11,
   "metadata": {
    "colab": {
     "autoexec": {
      "startup": false,
      "wait_interval": 0
     }
    },
    "colab_type": "code",
    "id": "yxjR4_UjHteE",
    "outputId": "7226bbac-b4ee-4880-8ca8-4962d4196be8"
   },
   "outputs": [
    {
     "name": "stdout",
     "output_type": "stream",
     "text": [
      "1\n",
      "2\n",
      "3\n"
     ]
    }
   ],
   "source": [
    "for i in [1, 2, 3]:\n",
    "    print(i)"
   ]
  },
  {
   "cell_type": "markdown",
   "metadata": {
    "colab_type": "text",
    "id": "WWtYuhJYHteG"
   },
   "source": [
    "*Note: range(x) gives an iterator from 0 to x-1*  "
   ]
  },
  {
   "cell_type": "code",
   "execution_count": 12,
   "metadata": {
    "colab": {
     "autoexec": {
      "startup": false,
      "wait_interval": 0
     }
    },
    "colab_type": "code",
    "id": "UnXsFbTZ2nW6",
    "outputId": "5fdd462a-6e45-493c-e8a5-3b5250793d01"
   },
   "outputs": [
    {
     "name": "stdout",
     "output_type": "stream",
     "text": [
      "0\n",
      "1\n",
      "2\n",
      "3\n",
      "4\n"
     ]
    }
   ],
   "source": [
    "for i in range(5):\n",
    "    print(i)"
   ]
  },
  {
   "cell_type": "code",
   "execution_count": 13,
   "metadata": {
    "colab": {
     "autoexec": {
      "startup": false,
      "wait_interval": 0
     }
    },
    "colab_type": "code",
    "id": "V9DL0IbB2nW8",
    "outputId": "33d796e1-eede-4aa9-b0b3-bae8faf96b2f"
   },
   "outputs": [
    {
     "name": "stdout",
     "output_type": "stream",
     "text": [
      "10\n",
      "12\n",
      "14\n",
      "16\n",
      "18\n"
     ]
    }
   ],
   "source": [
    "for i in range(10, 20, 2):\n",
    "    print(i)"
   ]
  },
  {
   "cell_type": "markdown",
   "metadata": {
    "colab_type": "text",
    "id": "P-sLL1r_HtfI"
   },
   "source": [
    "# Importing modules"
   ]
  },
  {
   "cell_type": "code",
   "execution_count": 14,
   "metadata": {
    "colab": {
     "autoexec": {
      "startup": false,
      "wait_interval": 0
     }
    },
    "colab_type": "code",
    "id": "uq61ZY-CHtfI"
   },
   "outputs": [],
   "source": [
    "import numpy"
   ]
  },
  {
   "cell_type": "code",
   "execution_count": 15,
   "metadata": {
    "colab": {
     "autoexec": {
      "startup": false,
      "wait_interval": 0
     }
    },
    "colab_type": "code",
    "id": "RoSIXQppHtfI",
    "outputId": "918301db-b010-4060-c3de-8b6cfa6cbc0d"
   },
   "outputs": [
    {
     "data": {
      "text/plain": [
       "array([1, 2])"
      ]
     },
     "execution_count": 15,
     "metadata": {},
     "output_type": "execute_result"
    }
   ],
   "source": [
    "numpy.array([1, 2])"
   ]
  },
  {
   "cell_type": "markdown",
   "metadata": {
    "colab_type": "text",
    "id": "aLPOWMFkHtfK"
   },
   "source": [
    "## Alias \n",
    "Short words used instead of longer library names."
   ]
  },
  {
   "cell_type": "code",
   "execution_count": 16,
   "metadata": {
    "colab": {
     "autoexec": {
      "startup": false,
      "wait_interval": 0
     }
    },
    "colab_type": "code",
    "id": "jrtrsbKNHtfK"
   },
   "outputs": [],
   "source": [
    "import numpy as np"
   ]
  },
  {
   "cell_type": "code",
   "execution_count": 17,
   "metadata": {
    "colab": {
     "autoexec": {
      "startup": false,
      "wait_interval": 0
     }
    },
    "colab_type": "code",
    "id": "V4BnV6tKHtfM",
    "outputId": "89dd6a39-5bde-4915-d24d-dbfde7f129e2"
   },
   "outputs": [
    {
     "data": {
      "text/plain": [
       "array([1, 2])"
      ]
     },
     "execution_count": 17,
     "metadata": {},
     "output_type": "execute_result"
    }
   ],
   "source": [
    "np.array([1, 2])"
   ]
  },
  {
   "cell_type": "code",
   "execution_count": 0,
   "metadata": {
    "colab": {
     "autoexec": {
      "startup": false,
      "wait_interval": 0
     }
    },
    "colab_type": "code",
    "id": "vqyqOTbgHtfO"
   },
   "outputs": [],
   "source": []
  }
 ],
 "metadata": {
  "colab": {
   "default_view": {},
   "name": "Python-2.ipynb",
   "provenance": [],
   "version": "0.3.2",
   "views": {}
  },
  "kernelspec": {
   "display_name": "Python 3",
   "language": "python",
   "name": "python3"
  },
  "language_info": {
   "codemirror_mode": {
    "name": "ipython",
    "version": 3
   },
   "file_extension": ".py",
   "mimetype": "text/x-python",
   "name": "python",
   "nbconvert_exporter": "python",
   "pygments_lexer": "ipython3",
   "version": "3.6.1"
  }
 },
 "nbformat": 4,
 "nbformat_minor": 1
}
